{
 "cells": [
  {
   "cell_type": "code",
   "execution_count": 7,
   "id": "e15cd8e5",
   "metadata": {},
   "outputs": [],
   "source": [
    "import cv2 \n",
    "import uuid\n",
    "import os\n",
    "import time"
   ]
  },
  {
   "cell_type": "code",
   "execution_count": 4,
   "id": "d4311bee",
   "metadata": {},
   "outputs": [],
   "source": [
    "labels = ['thumbsup', 'thumbsdown', 'thankyou', 'livelong']\n",
    "number_imgs = 5"
   ]
  },
  {
   "cell_type": "code",
   "execution_count": 2,
   "id": "18694431",
   "metadata": {},
   "outputs": [],
   "source": [
    "image_path = os.path.join('Tensorflow', 'workspace', 'images', 'collectedimages')"
   ]
  },
  {
   "cell_type": "code",
   "execution_count": 5,
   "id": "9ddb98a4",
   "metadata": {},
   "outputs": [],
   "source": [
    "import os\n",
    "\n",
    "\n",
    "\n",
    "\n",
    "if not os.path.exists(image_path):\n",
    "    os.makedirs(image_path)\n",
    "\n",
    "\n",
    "for label in labels:\n",
    "    path = os.path.join(image_path, label)\n",
    "    if not os.path.exists(path):\n",
    "        os.makedirs(path)\n"
   ]
  },
  {
   "cell_type": "code",
   "execution_count": 8,
   "id": "c454db29",
   "metadata": {},
   "outputs": [
    {
     "name": "stdout",
     "output_type": "stream",
     "text": [
      "Collecting images for thumbsup\n"
     ]
    },
    {
     "name": "stderr",
     "output_type": "stream",
     "text": [
      "Warning: Ignoring XDG_SESSION_TYPE=wayland on Gnome. Use QT_QPA_PLATFORM=wayland to run on Wayland anyway.\n",
      "Qt: Session management error: Could not open network socket\n"
     ]
    },
    {
     "name": "stdout",
     "output_type": "stream",
     "text": [
      "✅ Saved Tensorflow/workspace/images/collectedimages/thumbsup/thumbsup_ce9ea835-1496-46b8-b37a-543a0364531e.jpg\n",
      "✅ Saved Tensorflow/workspace/images/collectedimages/thumbsup/thumbsup_727ae4a0-d6e4-4293-890c-b6ae43a6f1b0.jpg\n",
      "✅ Saved Tensorflow/workspace/images/collectedimages/thumbsup/thumbsup_d1a33548-ac96-40ef-801e-4ba4405b6aad.jpg\n",
      "✅ Saved Tensorflow/workspace/images/collectedimages/thumbsup/thumbsup_885eb703-7482-4f43-b5f4-8804125de28f.jpg\n",
      "✅ Saved Tensorflow/workspace/images/collectedimages/thumbsup/thumbsup_b39667c6-7e89-48d5-a31f-73ccd2ca4495.jpg\n",
      "Collecting images for thumbsdown\n",
      "✅ Saved Tensorflow/workspace/images/collectedimages/thumbsdown/thumbsdown_c081da88-bc67-4fce-af4d-e6a9ec5c02cb.jpg\n",
      "✅ Saved Tensorflow/workspace/images/collectedimages/thumbsdown/thumbsdown_24eafcb6-fcf2-486f-ad94-49a6632eb477.jpg\n",
      "✅ Saved Tensorflow/workspace/images/collectedimages/thumbsdown/thumbsdown_095055f5-cecb-4d75-af03-4f508b84e5da.jpg\n",
      "✅ Saved Tensorflow/workspace/images/collectedimages/thumbsdown/thumbsdown_db648708-6253-4d32-b30d-27f0c9b0b4cd.jpg\n",
      "✅ Saved Tensorflow/workspace/images/collectedimages/thumbsdown/thumbsdown_dd9c0332-1a6a-4a97-9dc7-0e8c2c12dbc2.jpg\n",
      "Collecting images for thankyou\n",
      "✅ Saved Tensorflow/workspace/images/collectedimages/thankyou/thankyou_e8dcd5b7-314c-447c-a395-61ee691c0923.jpg\n",
      "✅ Saved Tensorflow/workspace/images/collectedimages/thankyou/thankyou_80f7f4b6-221e-4e06-9726-67ece5c056f9.jpg\n",
      "✅ Saved Tensorflow/workspace/images/collectedimages/thankyou/thankyou_8ceb9ae4-4310-4c12-9349-8b075b53a383.jpg\n",
      "✅ Saved Tensorflow/workspace/images/collectedimages/thankyou/thankyou_f4dc7020-1f36-498a-a1da-5014d66b60bd.jpg\n",
      "✅ Saved Tensorflow/workspace/images/collectedimages/thankyou/thankyou_29326253-0d12-402d-85e1-7525a9d2c18e.jpg\n",
      "Collecting images for livelong\n",
      "✅ Saved Tensorflow/workspace/images/collectedimages/livelong/livelong_61230239-67fa-4372-a879-35134ac432be.jpg\n",
      "✅ Saved Tensorflow/workspace/images/collectedimages/livelong/livelong_f66437f5-caef-467c-b8a3-48decc22e74d.jpg\n",
      "✅ Saved Tensorflow/workspace/images/collectedimages/livelong/livelong_52eda8e1-f81c-4819-87f9-a4673fff2ba6.jpg\n",
      "✅ Saved Tensorflow/workspace/images/collectedimages/livelong/livelong_16969257-2213-4221-9d9e-587a68b8280f.jpg\n",
      "✅ Saved Tensorflow/workspace/images/collectedimages/livelong/livelong_f629ba82-614d-43b5-a1c5-24d75bf430a9.jpg\n"
     ]
    }
   ],
   "source": [
    "\n",
    "\n",
    "number_images = 5  # how many images per label\n",
    "capture_delay = 2  # seconds between captures\n",
    "\n",
    "for label in labels:\n",
    "    cap = cv2.VideoCapture(0)\n",
    "    print(f'Collecting images for {label}')\n",
    "    time.sleep(2)  # warm up cam\n",
    "\n",
    "    imgnum = 0\n",
    "    last_capture_time = time.time()\n",
    "\n",
    "    while imgnum < number_images:\n",
    "        ret, frame = cap.read()\n",
    "        if not ret:\n",
    "            continue\n",
    "\n",
    "        cv2.imshow('frame', frame)\n",
    "\n",
    "     \n",
    "        if time.time() - last_capture_time >= capture_delay:\n",
    "            imgname = os.path.join(image_path, label, f\"{label}_{uuid.uuid4()}.jpg\")\n",
    "            cv2.imwrite(imgname, frame)\n",
    "            print(f\"✅ Saved {imgname}\")\n",
    "            imgnum += 1\n",
    "            last_capture_time = time.time()\n",
    "\n",
    "        # Press 'q' to quit early\n",
    "        if cv2.waitKey(1) & 0xFF == ord('q'):\n",
    "            break\n",
    "\n",
    "    cap.release()\n",
    "    cv2.destroyAllWindows()\n"
   ]
  },
  {
   "cell_type": "code",
   "execution_count": 9,
   "id": "4d37adb6",
   "metadata": {},
   "outputs": [
    {
     "name": "stdout",
     "output_type": "stream",
     "text": [
      "Defaulting to user installation because normal site-packages is not writeable\n",
      "Requirement already satisfied: pyqt5 in /var/data/python/lib/python3.12/site-packages (5.15.11)\n",
      "Requirement already satisfied: lxml in /var/data/python/lib/python3.12/site-packages (6.0.1)\n",
      "Requirement already satisfied: PyQt5-sip<13,>=12.15 in /var/data/python/lib/python3.12/site-packages (from pyqt5) (12.17.0)\n",
      "Requirement already satisfied: PyQt5-Qt5<5.16.0,>=5.15.2 in /var/data/python/lib/python3.12/site-packages (from pyqt5) (5.15.17)\n"
     ]
    }
   ],
   "source": [
    "!pip install --upgrade pyqt5 lxml"
   ]
  },
  {
   "cell_type": "code",
   "execution_count": 10,
   "id": "b6633485",
   "metadata": {},
   "outputs": [],
   "source": [
    "LABELIMG_PATH = os.path.join('Tensorflow', 'labelimg')"
   ]
  },
  {
   "cell_type": "code",
   "execution_count": 11,
   "id": "87eb155b",
   "metadata": {},
   "outputs": [
    {
     "name": "stdout",
     "output_type": "stream",
     "text": [
      "Cloning into 'Tensorflow/labelimg'...\n",
      "remote: Enumerating objects: 2097, done.\u001b[K\n",
      "remote: Total 2097 (delta 0), reused 0 (delta 0), pack-reused 2097 (from 1)\u001b[K\n",
      "Receiving objects: 100% (2097/2097), 237.15 MiB | 2.88 MiB/s, done.\n",
      "Resolving deltas: 100% (1221/1221), done.\n"
     ]
    }
   ],
   "source": [
    "if not os.path.exists(LABELIMG_PATH):\n",
    "    !mkdir {LABELIMG_PATH}\n",
    "    !git clone https://github.com/tzutalin/labelImg {LABELIMG_PATH}"
   ]
  },
  {
   "cell_type": "code",
   "execution_count": 12,
   "id": "8050c290",
   "metadata": {},
   "outputs": [
    {
     "name": "stdout",
     "output_type": "stream",
     "text": [
      "make: *** No rule to make target 'qt5py3'.  Stop.\n"
     ]
    }
   ],
   "source": [
    "if os.name == 'posix':\n",
    "    !make qt5py3\n",
    "if os.name =='nt':\n",
    "    !cd {LABELIMG_PATH} && pyrcc5 -o libs/resources.py resources.qrc"
   ]
  },
  {
   "cell_type": "code",
   "execution_count": null,
   "id": "75919247",
   "metadata": {},
   "outputs": [],
   "source": []
  }
 ],
 "metadata": {
  "kernelspec": {
   "display_name": "Python 3",
   "language": "python",
   "name": "python3"
  },
  "language_info": {
   "codemirror_mode": {
    "name": "ipython",
    "version": 3
   },
   "file_extension": ".py",
   "mimetype": "text/x-python",
   "name": "python",
   "nbconvert_exporter": "python",
   "pygments_lexer": "ipython3",
   "version": "3.12.11"
  }
 },
 "nbformat": 4,
 "nbformat_minor": 5
}
