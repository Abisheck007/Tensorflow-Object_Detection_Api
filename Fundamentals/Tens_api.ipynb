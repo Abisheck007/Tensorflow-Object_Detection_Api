{
 "cells": [
  {
   "cell_type": "code",
   "execution_count": 7,
   "metadata": {},
   "outputs": [],
   "source": [
    "import cv2\n",
    "import uuid\n",
    "import os\n",
    "import time"
   ]
  },
  {
   "cell_type": "code",
   "execution_count": 2,
   "metadata": {},
   "outputs": [],
   "source": [
    "labels=['thumbsup','thumbsdown','thankyou','livelong']\n",
    "number_images=5"
   ]
  },
  {
   "cell_type": "code",
   "execution_count": 3,
   "metadata": {},
   "outputs": [],
   "source": [
    "image_path = os.path.join('Tensorflow','workspace','images','collectedimages')"
   ]
  },
  {
   "cell_type": "code",
   "execution_count": 4,
   "metadata": {},
   "outputs": [
    {
     "name": "stdout",
     "output_type": "stream",
     "text": [
      "Tensorflow/workspace/images/collectedimages\n"
     ]
    }
   ],
   "source": [
    "print(image_path)"
   ]
  },
  {
   "cell_type": "code",
   "execution_count": 5,
   "metadata": {},
   "outputs": [],
   "source": [
    "import os\n",
    "\n",
    "\n",
    "\n",
    "\n",
    "if not os.path.exists(image_path):\n",
    "    os.makedirs(image_path)\n",
    "\n",
    "\n",
    "for label in labels:\n",
    "    path = os.path.join(image_path, label)\n",
    "    if not os.path.exists(path):\n",
    "        os.makedirs(path)\n"
   ]
  },
  {
   "cell_type": "code",
   "execution_count": 6,
   "metadata": {},
   "outputs": [
    {
     "name": "stdout",
     "output_type": "stream",
     "text": [
      "Collecting images for thumbsup\n"
     ]
    },
    {
     "name": "stderr",
     "output_type": "stream",
     "text": [
      "Warning: Ignoring XDG_SESSION_TYPE=wayland on Gnome. Use QT_QPA_PLATFORM=wayland to run on Wayland anyway.\n"
     ]
    },
    {
     "name": "stdout",
     "output_type": "stream",
     "text": [
      "✅ Saved Tensorflow/workspace/images/collectedimages/thumbsup/thumbsup_5c9c921e-85d0-47ce-9ff7-9df03d405e89.jpg\n",
      "✅ Saved Tensorflow/workspace/images/collectedimages/thumbsup/thumbsup_8e08e4dd-831b-404d-8a65-21a793d40f57.jpg\n",
      "✅ Saved Tensorflow/workspace/images/collectedimages/thumbsup/thumbsup_3a574292-77da-44fd-beee-6ebd20ae05b2.jpg\n",
      "✅ Saved Tensorflow/workspace/images/collectedimages/thumbsup/thumbsup_f328be00-dd94-486a-a17a-def4893a6a72.jpg\n",
      "✅ Saved Tensorflow/workspace/images/collectedimages/thumbsup/thumbsup_45dc9fef-1ecf-4a41-a7fa-34dd790f1cc8.jpg\n",
      "Collecting images for thumbsdown\n",
      "✅ Saved Tensorflow/workspace/images/collectedimages/thumbsdown/thumbsdown_6668c7d5-5a8b-4049-bd4e-d2dab21f1e35.jpg\n",
      "✅ Saved Tensorflow/workspace/images/collectedimages/thumbsdown/thumbsdown_48e7177a-27cd-4f84-aaf8-615939a7683a.jpg\n",
      "✅ Saved Tensorflow/workspace/images/collectedimages/thumbsdown/thumbsdown_3b5fbd02-eb33-4c78-a01f-2988074ca6be.jpg\n",
      "✅ Saved Tensorflow/workspace/images/collectedimages/thumbsdown/thumbsdown_333b3e59-35e8-4172-ae1a-cb3b01f7387e.jpg\n",
      "✅ Saved Tensorflow/workspace/images/collectedimages/thumbsdown/thumbsdown_62a55f72-8765-46ff-b75d-fd8a47afc9f7.jpg\n",
      "Collecting images for thankyou\n",
      "✅ Saved Tensorflow/workspace/images/collectedimages/thankyou/thankyou_720fd872-f789-45b2-bc31-28f794aa23e4.jpg\n",
      "✅ Saved Tensorflow/workspace/images/collectedimages/thankyou/thankyou_662873c5-c76e-482b-9c63-fb2726c7ad76.jpg\n",
      "✅ Saved Tensorflow/workspace/images/collectedimages/thankyou/thankyou_34ac079e-ea28-4bb7-a237-6d9bc415dd76.jpg\n",
      "✅ Saved Tensorflow/workspace/images/collectedimages/thankyou/thankyou_64e66b1d-6b74-49a1-8a71-2cd63850da8f.jpg\n",
      "✅ Saved Tensorflow/workspace/images/collectedimages/thankyou/thankyou_01bd6790-627f-4624-aff8-b92861911853.jpg\n",
      "Collecting images for livelong\n",
      "✅ Saved Tensorflow/workspace/images/collectedimages/livelong/livelong_b72883c0-7d60-4b71-8b6e-104c6d26a3a5.jpg\n",
      "✅ Saved Tensorflow/workspace/images/collectedimages/livelong/livelong_589a93eb-1121-457c-8bf5-ce0f4eb30779.jpg\n",
      "✅ Saved Tensorflow/workspace/images/collectedimages/livelong/livelong_27d64179-95ac-4b85-823e-3fd2b1d9d86c.jpg\n",
      "✅ Saved Tensorflow/workspace/images/collectedimages/livelong/livelong_9bd65f5e-96fb-4986-95f9-58177a3b747c.jpg\n",
      "✅ Saved Tensorflow/workspace/images/collectedimages/livelong/livelong_128114bb-4d32-47b2-8c1d-99b2b3e65fef.jpg\n"
     ]
    }
   ],
   "source": [
    "\n",
    "\n",
    "number_images = 5  # how many images per label\n",
    "capture_delay = 2  # seconds between captures\n",
    "\n",
    "for label in labels:\n",
    "    cap = cv2.VideoCapture(0)\n",
    "    print(f'Collecting images for {label}')\n",
    "    time.sleep(2)  # warm up cam\n",
    "\n",
    "    imgnum = 0\n",
    "    last_capture_time = time.time()\n",
    "\n",
    "    while imgnum < number_images:\n",
    "        ret, frame = cap.read()\n",
    "        if not ret:\n",
    "            continue\n",
    "\n",
    "        cv2.imshow('frame', frame)\n",
    "\n",
    "     \n",
    "        if time.time() - last_capture_time >= capture_delay:\n",
    "            imgname = os.path.join(image_path, label, f\"{label}_{uuid.uuid4()}.jpg\")\n",
    "            cv2.imwrite(imgname, frame)\n",
    "            print(f\"✅ Saved {imgname}\")\n",
    "            imgnum += 1\n",
    "            last_capture_time = time.time()\n",
    "\n",
    "        # Press 'q' to quit early\n",
    "        if cv2.waitKey(1) & 0xFF == ord('q'):\n",
    "            break\n",
    "\n",
    "    cap.release()\n",
    "    cv2.destroyAllWindows()\n"
   ]
  },
  {
   "cell_type": "code",
   "execution_count": 4,
   "metadata": {},
   "outputs": [],
   "source": [
    "LABELIMG_PATH=os.path.join('Tensorflow','labelimg')"
   ]
  },
  {
   "cell_type": "code",
   "execution_count": 5,
   "metadata": {},
   "outputs": [],
   "source": [
    "if not os.path.exists(LABELIMG_PATH):\n",
    "    !mkdir {LABELIMG_PATH}\n",
    "    !git clone https://github.com/tzutalin/labelImg {LABELIMG_PATH}"
   ]
  },
  {
   "cell_type": "code",
   "execution_count": 6,
   "metadata": {},
   "outputs": [
    {
     "name": "stdout",
     "output_type": "stream",
     "text": [
      "pyrcc5 -o libs/resources.py resources.qrc\n"
     ]
    }
   ],
   "source": [
    "if os.name == 'posix':  \n",
    "    !cd {LABELIMG_PATH} && make qt5py3\n",
    "if os.name == 'nt':     \n",
    "    !cd {LABELIMG_PATH} && pyrcc5 -o libs/resources.py resources.qrc"
   ]
  },
  {
   "cell_type": "code",
   "execution_count": 5,
   "metadata": {},
   "outputs": [],
   "source": [
    "#training a model\n",
    "CUSTOM_MODEL_NAME = \"my_ssd_mobnet\"\n",
    "PRETRAINED_MODEL_NAME = \"ssd_mobilenet_v2_fpnlite_320x320_coco17_tpu-8\"\n",
    "PRETRAINED_MODEL_URL = \"http://download.tensorflow.org/models/object_detection/tf2/20200711/ssd_mobilenet_v2_fpnlite_320x320_coco17_tpu-8.tar.gz\"\n",
    "TF_RECORD_SCRIPT_NAME = \"generate_tfrecord.py\"\n",
    "LABEL_MAP_NAME = \"label_map.pbtxt\""
   ]
  },
  {
   "cell_type": "code",
   "execution_count": 8,
   "metadata": {},
   "outputs": [],
   "source": [
    "paths = {\n",
    "    'WORKSPACE_PATH': os.path.join('Tensorflow', 'workspace'),\n",
    "    'SCRIPTS_PATH': os.path.join('Tensorflow', 'scripts'),\n",
    "    'APIMODEL_PATH': os.path.join('Tensorflow', 'models'),\n",
    "    'ANNOTATION_PATH': os.path.join('Tensorflow', 'workspace', 'annotations'),\n",
    "    'IMAGE_PATH': os.path.join('Tensorflow', 'workspace', 'images'),\n",
    "    'MODEL_PATH': os.path.join('Tensorflow', 'workspace', 'models'),\n",
    "    'PRETRAINED_MODEL_PATH': os.path.join('Tensorflow', 'workspace', 'pre-trained-models'),\n",
    "    'CHECKPOINT_PATH': os.path.join('Tensorflow', 'workspace', 'models', CUSTOM_MODEL_NAME),\n",
    "    'OUTPUT_PATH': os.path.join('Tensorflow', 'workspace', 'models', CUSTOM_MODEL_NAME, 'export'),\n",
    "    'TFJS_PATH': os.path.join('Tensorflow', 'workspace', 'models', CUSTOM_MODEL_NAME, 'tfjsexport'),\n",
    "    'TFLITE_PATH': os.path.join('Tensorflow', 'workspace', 'models', CUSTOM_MODEL_NAME, 'tfliteexport'),\n",
    "    'PROTOC_PATH': os.path.join('Tensorflow', 'protoc')\n",
    "}"
   ]
  },
  {
   "cell_type": "code",
   "execution_count": 9,
   "metadata": {},
   "outputs": [],
   "source": [
    "files = {\n",
    "    'PIPELINE_CONFIG': os.path.join('Tensorflow', 'workspace', 'models', CUSTOM_MODEL_NAME, 'pipeline.config'),\n",
    "    'TF_RECORD_SCRIPT': os.path.join(paths['SCRIPTS_PATH'], TF_RECORD_SCRIPT_NAME),\n",
    "    'LABELMAP': os.path.join(paths['ANNOTATION_PATH'], LABEL_MAP_NAME)\n",
    "}"
   ]
  },
  {
   "cell_type": "code",
   "execution_count": 10,
   "metadata": {},
   "outputs": [],
   "source": [
    "import wget\n",
    "if not os.path.exists(os.path.join(paths['APIMODEL_PATH'], 'research', 'object_detection')):\n",
    "    !git clone https://github.com/tensorflow/models {paths['APIMODEL_PATH']}"
   ]
  },
  {
   "cell_type": "code",
   "execution_count": 5,
   "metadata": {},
   "outputs": [
    {
     "name": "stdout",
     "output_type": "stream",
     "text": [
      "Defaulting to user installation because normal site-packages is not writeable\n",
      "Requirement already satisfied: pyyaml in /usr/lib/python3.13/site-packages (6.0.2)\n"
     ]
    }
   ],
   "source": [
    "!pip install pyyaml --break-system-packages\n"
   ]
  },
  {
   "cell_type": "code",
   "execution_count": 13,
   "metadata": {},
   "outputs": [
    {
     "name": "stdout",
     "output_type": "stream",
     "text": [
      "--2025-08-25 10:47:42--  http://download.tensorflow.org/models/object_detection/tf2/20200711/ssd_mobilenet_v2_fpnlite_320x320_coco17_tpu-8.tar.gz\n",
      "Resolving download.tensorflow.org (download.tensorflow.org)... 2404:6800:4002:802::201b, 2404:6800:4002:819::201b, 2404:6800:4002:829::201b, ...\n",
      "Connecting to download.tensorflow.org (download.tensorflow.org)|2404:6800:4002:802::201b|:80... connected.\n",
      "HTTP request sent, awaiting response... 200 OK\n",
      "Length: 20515344 (20M) [application/x-tar]\n",
      "Saving to: ‘ssd_mobilenet_v2_fpnlite_320x320_coco17_tpu-8.tar.gz’\n",
      "\n",
      "ssd_mobilenet_v2_fp 100%[===================>]  19.56M  3.54MB/s    in 6.4s    \n",
      "\n",
      "2025-08-25 10:47:50 (3.08 MB/s) - ‘ssd_mobilenet_v2_fpnlite_320x320_coco17_tpu-8.tar.gz’ saved [20515344/20515344]\n",
      "\n",
      "ssd_mobilenet_v2_fpnlite_320x320_coco17_tpu-8/\n",
      "ssd_mobilenet_v2_fpnlite_320x320_coco17_tpu-8/checkpoint/\n",
      "ssd_mobilenet_v2_fpnlite_320x320_coco17_tpu-8/checkpoint/ckpt-0.data-00000-of-00001\n",
      "ssd_mobilenet_v2_fpnlite_320x320_coco17_tpu-8/checkpoint/checkpoint\n",
      "ssd_mobilenet_v2_fpnlite_320x320_coco17_tpu-8/checkpoint/ckpt-0.index\n",
      "ssd_mobilenet_v2_fpnlite_320x320_coco17_tpu-8/pipeline.config\n",
      "ssd_mobilenet_v2_fpnlite_320x320_coco17_tpu-8/saved_model/\n",
      "ssd_mobilenet_v2_fpnlite_320x320_coco17_tpu-8/saved_model/saved_model.pb\n",
      "ssd_mobilenet_v2_fpnlite_320x320_coco17_tpu-8/saved_model/variables/\n",
      "ssd_mobilenet_v2_fpnlite_320x320_coco17_tpu-8/saved_model/variables/variables.data-00000-of-00001\n",
      "ssd_mobilenet_v2_fpnlite_320x320_coco17_tpu-8/saved_model/variables/variables.index\n"
     ]
    }
   ],
   "source": [
    "if os.name =='posix':\n",
    "    !wget {PRETRAINED_MODEL_URL}\n",
    "    !mv {PRETRAINED_MODEL_NAME+'.tar.gz'} {paths['PRETRAINED_MODEL_PATH']}\n",
    "    !cd {paths['PRETRAINED_MODEL_PATH']} && tar -zxvf {PRETRAINED_MODEL_NAME+'.tar.gz'}\n",
    "if os.name == 'nt':\n",
    "    wget.download(PRETRAINED_MODEL_URL)\n",
    "    !move {PRETRAINED_MODEL_NAME+'.tar.gz'} {paths['PRETRAINED_MODEL_PATH']}\n",
    "    !cd {paths['PRETRAINED_MODEL_PATH']} && tar -zxvf {PRETRAINED_MODEL_NAME+'.tar.gz'}"
   ]
  },
  {
   "cell_type": "code",
   "execution_count": 11,
   "metadata": {},
   "outputs": [],
   "source": [
    "labels = [{'name':'ThumbsUp', 'id':1}, {'name':'ThumbsDown', 'id':2}, {'name':'ThankYou', 'id':3}, {'name':'LiveLong', 'id':4}]\n",
    "\n",
    "with open(files['LABELMAP'], 'w') as f:\n",
    "    for label in labels:\n",
    "        f.write('item { \\n')\n",
    "        f.write('\\tname:\\'{}\\'\\n'.format(label['name']))\n",
    "        f.write('\\tid:{}\\n'.format(label['id']))\n",
    "        f.write('}\\n')"
   ]
  },
  {
   "cell_type": "code",
   "execution_count": 15,
   "metadata": {},
   "outputs": [
    {
     "name": "stdout",
     "output_type": "stream",
     "text": [
      "Cloning into 'Tensorflow/scripts'...\n",
      "remote: Enumerating objects: 3, done.\u001b[K\n",
      "remote: Counting objects: 100% (3/3), done.\u001b[K\n",
      "remote: Compressing objects: 100% (2/2), done.\u001b[K\n",
      "remote: Total 3 (delta 0), reused 1 (delta 0), pack-reused 0 (from 0)\u001b[K\n",
      "Receiving objects: 100% (3/3), done.\n"
     ]
    }
   ],
   "source": [
    "if not os.path.exists(files['TF_RECORD_SCRIPT']):\n",
    "    !git clone https://github.com/nicknochnack/GenerateTFRecord {paths['SCRIPTS_PATH']}"
   ]
  },
  {
   "cell_type": "code",
   "execution_count": 12,
   "metadata": {},
   "outputs": [],
   "source": [
    "import sys\n",
    "sys.path.append(os.path.abspath(\"Tensorflow/models/research\"))\n",
    "import object_detection"
   ]
  }
 ],
 "metadata": {
  "kernelspec": {
   "display_name": "Python 3",
   "language": "python",
   "name": "python3"
  },
  "language_info": {
   "codemirror_mode": {
    "name": "ipython",
    "version": 3
   },
   "file_extension": ".py",
   "mimetype": "text/x-python",
   "name": "python",
   "nbconvert_exporter": "python",
   "pygments_lexer": "ipython3",
   "version": "3.13.5"
  }
 },
 "nbformat": 4,
 "nbformat_minor": 2
}
